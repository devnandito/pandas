{
 "cells": [
  {
   "cell_type": "code",
   "execution_count": 99,
   "metadata": {},
   "outputs": [],
   "source": [
    "import re"
   ]
  },
  {
   "cell_type": "code",
   "execution_count": 1,
   "metadata": {},
   "outputs": [],
   "source": [
    "import pandas as pd\n"
   ]
  },
  {
   "cell_type": "code",
   "execution_count": 100,
   "metadata": {},
   "outputs": [],
   "source": [
    "regex = re.compile(r'([A-Za-z0-9]+[.-_])*[A-Za-z0-9]+@[A-Za-z0-9-]+(\\.[A-Z|a-z]{2,})+')"
   ]
  },
  {
   "cell_type": "code",
   "execution_count": 65,
   "metadata": {},
   "outputs": [],
   "source": [
    "df = pd.read_csv(\"/home/tech/CUERPO.CSV\")"
   ]
  },
  {
   "cell_type": "code",
   "execution_count": 238,
   "metadata": {},
   "outputs": [],
   "source": [
    "df = pd.read_csv('/home/tech/20231017_email.csv',encoding='latin1')"
   ]
  },
  {
   "cell_type": "code",
   "execution_count": 83,
   "metadata": {},
   "outputs": [],
   "source": [
    "options = ['dcs-bcp@bcp.gov.py', 'dcs@bcp.gov.py', 'TI@bcp.gov.py']"
   ]
  },
  {
   "cell_type": "code",
   "execution_count": 242,
   "metadata": {},
   "outputs": [
    {
     "name": "stdout",
     "output_type": "stream",
     "text": [
      "                                               Column1\n",
      "0                               De: TI <TI@bcp.gov.py>\n",
      "1     Para: Salvador M. Robustella <srobus@bcp.gov.py>\n",
      "2       From: Dpto. de Ciberseguridad <dcs@bcp.gov.py>\n",
      "3           To: Carolina Guerrero <cguerre@bcp.gov.py>\n",
      "4         Cc: Dpto. de Ciberseguridad <dcs@bcp.gov.py>\n",
      "..                                                 ...\n",
      "150  E-mail: pescobar@bcp.gov.py <mailto:pescobar@b...\n",
      "151  Para: Ricardo Villalba Estigarribia <rvillalba...\n",
      "152  E-mail: sgomez@bcp.gov.py <mailto:sgomez@bcp.g...\n",
      "153  E-mail: mreguera@bcp.gov.py <mailto:mreguera@b...\n",
      "154  E-mail: wchamorro@bcp.gov.py <mailto:wchamorro...\n",
      "\n",
      "[155 rows x 1 columns]\n"
     ]
    }
   ],
   "source": [
    "print(df)"
   ]
  },
  {
   "cell_type": "code",
   "execution_count": 101,
   "metadata": {},
   "outputs": [],
   "source": [
    "res = df[~df['Column1'].str.contains('<srobus@bcp.gov.py>')]"
   ]
  },
  {
   "cell_type": "code",
   "execution_count": 103,
   "metadata": {},
   "outputs": [],
   "source": [
    "res = df[df['Column1'].str.contains('<srobus@bcp.gov.py>')]"
   ]
  },
  {
   "cell_type": "code",
   "execution_count": 236,
   "metadata": {},
   "outputs": [],
   "source": [
    "df1 = df[df['Column1'].str.match(r'(<[a-z]+@bcp\\.gov\\.py>)')]"
   ]
  },
  {
   "cell_type": "code",
   "execution_count": 234,
   "metadata": {},
   "outputs": [],
   "source": [
    "df1 = df[df['Column1'].str.extract('([a-z]+@bcp\\.gov\\.py)')]"
   ]
  },
  {
   "cell_type": "code",
   "execution_count": 246,
   "metadata": {},
   "outputs": [
    {
     "data": {
      "text/plain": [
       "0                                                []\n",
       "1                               [srobus@bcp.gov.py]\n",
       "2                                  [dcs@bcp.gov.py]\n",
       "3                              [cguerre@bcp.gov.py]\n",
       "4                                  [dcs@bcp.gov.py]\n",
       "                           ...                     \n",
       "150      [pescobar@bcp.gov.py, pescobar@bcp.gov.py]\n",
       "151     [rvillalba@bcp.gov.py, avazquez@bcp.gov.py]\n",
       "152          [sgomez@bcp.gov.py, sgomez@bcp.gov.py]\n",
       "153      [mreguera@bcp.gov.py, mreguera@bcp.gov.py]\n",
       "154    [wchamorro@bcp.gov.py, wchamorro@bcp.gov.py]\n",
       "Name: Column1, Length: 155, dtype: object"
      ]
     },
     "execution_count": 246,
     "metadata": {},
     "output_type": "execute_result"
    }
   ],
   "source": [
    "df.Column1.str.findall('([a-z]+@bcp\\.gov\\.py)')"
   ]
  },
  {
   "cell_type": "code",
   "execution_count": 245,
   "metadata": {},
   "outputs": [
    {
     "data": {
      "text/plain": [
       "Series([], Name: Column1, dtype: object)"
      ]
     },
     "execution_count": 245,
     "metadata": {},
     "output_type": "execute_result"
    }
   ],
   "source": [
    "df1.Column1"
   ]
  },
  {
   "cell_type": "code",
   "execution_count": null,
   "metadata": {},
   "outputs": [],
   "source": [
    "res = df[~df['Column1'].str.contains('')]"
   ]
  },
  {
   "cell_type": "code",
   "execution_count": 237,
   "metadata": {},
   "outputs": [
    {
     "name": "stdout",
     "output_type": "stream",
     "text": [
      "Empty DataFrame\n",
      "Columns: [Column1]\n",
      "Index: []\n"
     ]
    }
   ],
   "source": [
    "print(df1)"
   ]
  },
  {
   "cell_type": "code",
   "execution_count": 120,
   "metadata": {},
   "outputs": [],
   "source": [
    "df1 = pd.DataFrame(df)"
   ]
  },
  {
   "cell_type": "code",
   "execution_count": 248,
   "metadata": {
    "scrolled": true
   },
   "outputs": [],
   "source": [
    "df.to_csv('/home/tech/20231017_email_res.csv',encoding='latin1')"
   ]
  },
  {
   "cell_type": "code",
   "execution_count": 214,
   "metadata": {},
   "outputs": [],
   "source": [
    "df1.to_csv('/mnt/c/Users/dsaldivar/Desktop/20231017_email_res.csv',encoding='latin1')"
   ]
  }
 ],
 "metadata": {
  "kernelspec": {
   "display_name": "Python 3",
   "language": "python",
   "name": "python3"
  },
  "language_info": {
   "codemirror_mode": {
    "name": "ipython",
    "version": 3
   },
   "file_extension": ".py",
   "mimetype": "text/x-python",
   "name": "python",
   "nbconvert_exporter": "python",
   "pygments_lexer": "ipython3",
   "version": "3.6.9"
  }
 },
 "nbformat": 4,
 "nbformat_minor": 2
}
