{
 "cells": [
  {
   "cell_type": "code",
   "execution_count": 1,
   "metadata": {},
   "outputs": [],
   "source": [
    "import pandas as pd"
   ]
  },
  {
   "cell_type": "code",
   "execution_count": 11,
   "metadata": {},
   "outputs": [],
   "source": [
    "df = pd.read_csv(\"/home/tech/CUERPO.CSV\")"
   ]
  },
  {
   "cell_type": "code",
   "execution_count": 253,
   "metadata": {},
   "outputs": [],
   "source": [
    "# df = pd.read_csv('/home/tech/20231017_email.csv',encoding='latin1')"
   ]
  },
  {
   "cell_type": "code",
   "execution_count": 3,
   "metadata": {},
   "outputs": [
    {
     "name": "stdout",
     "output_type": "stream",
     "text": [
      "                                               Cuerpo\n",
      "0   Estimados.. para revisar este evento.. pide co...\n",
      "1   Muchas gracias por la pronta respuesta, buen r...\n",
      "2    \\r\\n\\r\\n \\r\\n\\r\\nDe: TI <TI@bcp.gov.py> \\r\\nE...\n",
      "3   Buenos días, reporto caso de Phishing.\\r\\n\\r\\n...\n",
      "4   Buenos días, Sres.\\r\\n\\r\\n \\r\\n\\r\\nRemito corr...\n",
      "..                                                ...\n",
      "84  Buenos dias estimados,\\r\\n\\r\\n \\r\\n\\r\\nEl sigu...\n",
      "85  Buenos días estimados compañeros\\r\\n\\r\\nAdjunt...\n",
      "86  Buenos días Sres;\\r\\n\\r\\n \\r\\n\\r\\nLes dejo un ...\n",
      "87  Estimados CIBERSEGURIDAD\\r\\n\\r\\n \\r\\n\\r\\nEn la...\n",
      "88  Estimados compañeros SAU y Ciberseguridad, a l...\n",
      "\n",
      "[89 rows x 1 columns]\n"
     ]
    }
   ],
   "source": [
    "print(df)"
   ]
  },
  {
   "cell_type": "code",
   "execution_count": 4,
   "metadata": {},
   "outputs": [],
   "source": [
    "#res = df.Cuerpo.str.findall('([a-z]+@bcp\\.gov\\.py)')"
   ]
  },
  {
   "cell_type": "code",
   "execution_count": 12,
   "metadata": {},
   "outputs": [],
   "source": [
    "res = df.Cuerpo.str.findall('([a-z]+-*[a-z]*@bcp\\.gov\\.py)')"
   ]
  },
  {
   "cell_type": "code",
   "execution_count": 13,
   "metadata": {},
   "outputs": [
    {
     "name": "stdout",
     "output_type": "stream",
     "text": [
      "0                                   [srobus@bcp.gov.py]\n",
      "1     [dcs@bcp.gov.py, cguerre@bcp.gov.py, dcs@bcp.g...\n",
      "2                                   [crenna@bcp.gov.py]\n",
      "3                                [edinatale@bcp.gov.py]\n",
      "4     [cleon@bcp.gov.py, cleon@bcp.gov.py, info@bcp....\n",
      "                            ...                        \n",
      "84                                                   []\n",
      "85               [sgomez@bcp.gov.py, sgomez@bcp.gov.py]\n",
      "86           [aclavell@bcp.gov.py, aclavell@bcp.gov.py]\n",
      "87    [mreguera@bcp.gov.py, mreguera@bcp.gov.py, inf...\n",
      "88    [wchamorro@bcp.gov.py, wchamorro@bcp.gov.py, i...\n",
      "Name: Cuerpo, Length: 89, dtype: object\n"
     ]
    }
   ],
   "source": [
    "print(res)"
   ]
  },
  {
   "cell_type": "code",
   "execution_count": 15,
   "metadata": {
    "scrolled": true
   },
   "outputs": [],
   "source": [
    "res.to_csv('/home/tech/python/20231018_email_res.csv',encoding='latin1')"
   ]
  },
  {
   "cell_type": "code",
   "execution_count": 214,
   "metadata": {},
   "outputs": [],
   "source": [
    "df1.to_csv('/mnt/c/Users/dsaldivar/Desktop/20231017_email_res.csv',encoding='latin1')"
   ]
  }
 ],
 "metadata": {
  "kernelspec": {
   "display_name": "Python 3",
   "language": "python",
   "name": "python3"
  },
  "language_info": {
   "codemirror_mode": {
    "name": "ipython",
    "version": 3
   },
   "file_extension": ".py",
   "mimetype": "text/x-python",
   "name": "python",
   "nbconvert_exporter": "python",
   "pygments_lexer": "ipython3",
   "version": "3.6.9"
  }
 },
 "nbformat": 4,
 "nbformat_minor": 2
}
